{
 "cells": [
  {
   "cell_type": "code",
   "execution_count": 1,
   "id": "7a3c4049",
   "metadata": {},
   "outputs": [],
   "source": [
    "import pandas as pd \n",
    "import numpy as np "
   ]
  },
  {
   "cell_type": "code",
   "execution_count": 5,
   "id": "63bb967d",
   "metadata": {},
   "outputs": [],
   "source": [
    "A = np.random.randint(5,10,15)\n",
    "B = np.random.randint(51,100,15)"
   ]
  },
  {
   "cell_type": "code",
   "execution_count": 6,
   "id": "268301fb",
   "metadata": {},
   "outputs": [],
   "source": [
    "def add(A,B):\n",
    "    return np.add(A,B)"
   ]
  },
  {
   "cell_type": "code",
   "execution_count": 1,
   "id": "5c6797e0",
   "metadata": {},
   "outputs": [],
   "source": [
    "def concat(A,B):\n",
    "    return np.concat(A,B)"
   ]
  },
  {
   "cell_type": "code",
   "execution_count": 2,
   "id": "18236a5f",
   "metadata": {},
   "outputs": [],
   "source": [
    "def merge(A,B):\n",
    "    return np.merge(A,B)"
   ]
  },
  {
   "cell_type": "code",
   "execution_count": null,
   "id": "c982819a",
   "metadata": {},
   "outputs": [],
   "source": []
  }
 ],
 "metadata": {
  "kernelspec": {
   "display_name": "Python 3 (ipykernel)",
   "language": "python",
   "name": "python3"
  },
  "language_info": {
   "codemirror_mode": {
    "name": "ipython",
    "version": 3
   },
   "file_extension": ".py",
   "mimetype": "text/x-python",
   "name": "python",
   "nbconvert_exporter": "python",
   "pygments_lexer": "ipython3",
   "version": "3.9.7"
  }
 },
 "nbformat": 4,
 "nbformat_minor": 5
}
